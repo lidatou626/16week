{
 "cells": [
  {
   "cell_type": "code",
   "execution_count": 3,
   "id": "96c7009f-0de7-4c4e-b79f-7a910e3613c4",
   "metadata": {},
   "outputs": [
    {
     "name": "stdout",
     "output_type": "stream",
     "text": [
      "Looking in indexes: https://pypi.tuna.tsinghua.edu.cn/simple\n",
      "Collecting openpyxl\n",
      "  Downloading https://pypi.tuna.tsinghua.edu.cn/packages/c0/da/977ded879c29cbd04de313843e76868e6e13408a94ed6b987245dc7c8506/openpyxl-3.1.5-py2.py3-none-any.whl (250 kB)\n",
      "\u001b[2K     \u001b[90m━━━━━━━━━━━━━━━━━━━━━━━━━━━━━━━━━━━━━━\u001b[0m \u001b[32m250.9/250.9 kB\u001b[0m \u001b[31m25.4 MB/s\u001b[0m eta \u001b[36m0:00:00\u001b[0m\n",
      "\u001b[?25hCollecting et-xmlfile (from openpyxl)\n",
      "  Downloading https://pypi.tuna.tsinghua.edu.cn/packages/c1/8b/5fe2cc11fee489817272089c4203e679c63b570a5aaeb18d852ae3cbba6a/et_xmlfile-2.0.0-py3-none-any.whl (18 kB)\n",
      "Installing collected packages: et-xmlfile, openpyxl\n",
      "Successfully installed et-xmlfile-2.0.0 openpyxl-3.1.5\n",
      "Note: you may need to restart the kernel to use updated packages.\n"
     ]
    }
   ],
   "source": [
    "pip install openpyxl"
   ]
  },
  {
   "cell_type": "code",
   "execution_count": 6,
   "id": "b25ca02f-32dc-418d-8163-c7e35e4fbff4",
   "metadata": {},
   "outputs": [
    {
     "name": "stdout",
     "output_type": "stream",
     "text": [
      "全国5A级景区数据基本信息：\n",
      "<class 'pandas.core.frame.DataFrame'>\n",
      "RangeIndex: 247 entries, 0 to 246\n",
      "Data columns (total 10 columns):\n",
      " #   Column     Non-Null Count  Dtype  \n",
      "---  ------     --------------  -----  \n",
      " 0   OBJECTID   164 non-null    float64\n",
      " 1   dth_title  247 non-null    object \n",
      " 2   Province   247 non-null    object \n",
      " 3   level      247 non-null    object \n",
      " 4   time       247 non-null    int64  \n",
      " 5   bd_lon     247 non-null    float64\n",
      " 6   bd_lat     247 non-null    float64\n",
      " 7   gg_lon     247 non-null    float64\n",
      " 8   gg_lat     247 non-null    float64\n",
      " 9   source     247 non-null    object \n",
      "dtypes: float64(5), int64(1), object(4)\n",
      "memory usage: 19.4+ KB\n",
      "全国5A级景区数据前几行信息：\n",
      "\tOBJECTID\tdth_title\tProvince\tlevel\ttime\tbd_lon\tbd_lat\tgg_lon\tgg_lat\tsource\n",
      "0\t180.0\t喀什地区喀什噶尔老城景区\t新疆\t5A\t2015\t75.99315\t39.47731\t75.98667846395\t39.4712742708954\t国家旅游局201706\n",
      "1\tnan\t喀什地区泽普金湖杨景区\t新疆\t5A\t2013\t76.971473\t38.0492649999999\t76.9648893618562\t38.0434265286046\t国家旅游局201706\n",
      "2\tnan\t新疆自治区伊犁州喀拉峻景区\t新疆\t5A\t2016\t82.036792\t43.098658\t82.0301701487392\t43.092863491625\t国家旅游局201706\n",
      "3\tnan\t新疆自治区巴音州和静巴音布鲁克景区\t新疆\t5A\t2016\t84.13419\t43.0275079999999\t84.1278101470378\t43.0212765189005\t国家旅游局201706\n",
      "4\t99.0\t新疆伊犁那拉提旅游风景区\t新疆\t5A\t2011\t84.2328499999999\t43.299225\t84.2264656303103\t43.2930431690032\t国家旅游局201706\n",
      "\n",
      "景区评论数据集基本信息：\n",
      "<class 'pandas.core.frame.DataFrame'>\n",
      "RangeIndex: 1444 entries, 0 to 1443\n",
      "Data columns (total 3 columns):\n",
      " #   Column  Non-Null Count  Dtype \n",
      "---  ------  --------------  ----- \n",
      " 0   用户ID    1444 non-null   int64 \n",
      " 1   景区名称    1444 non-null   object\n",
      " 2   评论内容    1444 non-null   object\n",
      "dtypes: int64(1), object(2)\n",
      "memory usage: 34.0+ KB\n",
      "景区评论数据集前几行信息：\n",
      "\t用户ID\t景区名称\t评论内容\n",
      "0\t1\t喀什地区喀什噶尔老城景区\t喀什地区喀什噶尔老城景区的自然风光与人文景观完美结合，值得一去再去。\n",
      "1\t2\t喀什地区喀什噶尔老城景区\t喀什地区喀什噶尔老城景区的景色太震撼了，每一处都像是画卷，下次还会再来。\n",
      "2\t3\t喀什地区喀什噶尔老城景区\t在喀什地区喀什噶尔老城景区度过了一段难忘的时光，设施完善，游玩项目丰富有趣。\n",
      "3\t4\t喀什地区喀什噶尔老城景区\t强烈推荐喀什地区喀什噶尔老城景区，工作人员服务热情，游玩体验超棒。\n",
      "4\t5\t喀什地区喀什噶尔老城景区\t这次旅行太棒啦！喀什地区喀什噶尔老城景区真的名不虚传，风景美极了，特别适合放松身心。\n",
      "\n"
     ]
    }
   ],
   "source": [
    "import pandas as pd\n",
    "\n",
    "excel_file = pd.ExcelFile('全国5A级景区.xlsx')\n",
    "df_scenic = excel_file.parse('5A')\n",
    "\n",
    "df_comment = pd.read_excel('景区评论数据集.xlsx')\n",
    "\n",
    "print('全国5A级景区数据基本信息：')\n",
    "df_scenic.info()\n",
    "\n",
    "print('全国5A级景区数据前几行信息：')\n",
    "print(df_scenic.head().to_csv(sep='\\t', na_rep='nan'))\n",
    "\n",
    "print('景区评论数据集基本信息：')\n",
    "df_comment.info()\n",
    "\n",
    "print('景区评论数据集前几行信息：')\n",
    "print(df_comment.head().to_csv(sep='\\t', na_rep='nan'))"
   ]
  },
  {
   "cell_type": "code",
   "execution_count": 7,
   "id": "bc65e530-f97c-4429-a01a-189d053df647",
   "metadata": {},
   "outputs": [],
   "source": [
    "df_scenic = df_scenic.dropna(subset=['dth_title'])\n",
    "df_comment = df_comment.dropna(subset=['景区名称'])\n",
    "merged_df = pd.merge(df_scenic, df_comment, left_on='dth_title', right_on='景区名称', how='outer')\n",
    "merged_df.to_excel('景区与评论数据集.xlsx', index=False)"
   ]
  },
  {
   "cell_type": "code",
   "execution_count": 8,
   "id": "fd8efbf3-67f7-4aa0-a901-ccacb2c883d7",
   "metadata": {},
   "outputs": [
    {
     "name": "stdout",
     "output_type": "stream",
     "text": [
      "Looking in indexes: https://pypi.tuna.tsinghua.edu.cn/simple\n",
      "Requirement already satisfied: jieba in /environment/miniconda3/lib/python3.11/site-packages (0.42.1)\n",
      "Note: you may need to restart the kernel to use updated packages.\n"
     ]
    }
   ],
   "source": [
    "pip install jieba"
   ]
  },
  {
   "cell_type": "code",
   "execution_count": 1,
   "id": "1603bedc-df5f-4be8-95a1-d55b5ae6da53",
   "metadata": {},
   "outputs": [
    {
     "name": "stdout",
     "output_type": "stream",
     "text": [
      "Looking in indexes: https://pypi.tuna.tsinghua.edu.cn/simple\n",
      "Collecting snownlp\n",
      "  Downloading https://pypi.tuna.tsinghua.edu.cn/packages/3d/b3/37567686662100d3bce62d3b0f2adec18ab4b9ff2b61abd7a61c39343c1d/snownlp-0.12.3.tar.gz (37.6 MB)\n",
      "\u001b[2K     \u001b[90m━━━━━━━━━━━━━━━━━━━━━━━━━━━━━━━━━━━━━━━━\u001b[0m \u001b[32m37.6/37.6 MB\u001b[0m \u001b[31m66.0 MB/s\u001b[0m eta \u001b[36m0:00:00\u001b[0m00:01\u001b[0m00:01\u001b[0m\n",
      "\u001b[?25h  Preparing metadata (setup.py) ... \u001b[?25ldone\n",
      "\u001b[?25hBuilding wheels for collected packages: snownlp\n",
      "  Building wheel for snownlp (setup.py) ... \u001b[?25ldone\n",
      "\u001b[?25h  Created wheel for snownlp: filename=snownlp-0.12.3-py3-none-any.whl size=37760945 sha256=6c28c92afe8515c70415ea232504fe2a38dde3d3617a7659c1ed823360dbc618\n",
      "  Stored in directory: /home/featurize/.cache/pip/wheels/12/1b/2b/2e374fb7a2b183024a7d4213f21511faecee5be4851e1c1422\n",
      "Successfully built snownlp\n",
      "Installing collected packages: snownlp\n",
      "Successfully installed snownlp-0.12.3\n",
      "Note: you may need to restart the kernel to use updated packages.\n"
     ]
    }
   ],
   "source": [
    "pip install snownlp"
   ]
  },
  {
   "cell_type": "code",
   "execution_count": 2,
   "id": "023bcff7-6eef-4fd0-b027-e1816ab2186c",
   "metadata": {},
   "outputs": [
    {
     "name": "stdout",
     "output_type": "stream",
     "text": [
      "Looking in indexes: https://pypi.tuna.tsinghua.edu.cn/simple\n",
      "Collecting surprise\n",
      "  Downloading https://pypi.tuna.tsinghua.edu.cn/packages/61/de/e5cba8682201fcf9c3719a6fdda95693468ed061945493dea2dd37c5618b/surprise-0.1-py2.py3-none-any.whl (1.8 kB)\n",
      "Collecting scikit-surprise (from surprise)\n",
      "  Downloading https://pypi.tuna.tsinghua.edu.cn/packages/d9/8d/40ac32e703f3808159f9e2b33760cfbd6224cc7783eb663091eddc9581c2/scikit_surprise-1.1.4.tar.gz (154 kB)\n",
      "\u001b[2K     \u001b[90m━━━━━━━━━━━━━━━━━━━━━━━━━━━━━━━━━━━━━━\u001b[0m \u001b[32m154.4/154.4 kB\u001b[0m \u001b[31m16.0 MB/s\u001b[0m eta \u001b[36m0:00:00\u001b[0m\n",
      "\u001b[?25h  Installing build dependencies ... \u001b[?25ldone\n",
      "\u001b[?25h  Getting requirements to build wheel ... \u001b[?25ldone\n",
      "\u001b[?25h  Preparing metadata (pyproject.toml) ... \u001b[?25ldone\n",
      "\u001b[?25hCollecting joblib>=1.2.0 (from scikit-surprise->surprise)\n",
      "  Downloading https://pypi.tuna.tsinghua.edu.cn/packages/7d/4f/1195bbac8e0c2acc5f740661631d8d750dc38d4a32b23ee5df3cde6f4e0d/joblib-1.5.1-py3-none-any.whl (307 kB)\n",
      "\u001b[2K     \u001b[90m━━━━━━━━━━━━━━━━━━━━━━━━━━━━━━━━━━━━━━\u001b[0m \u001b[32m307.7/307.7 kB\u001b[0m \u001b[31m27.6 MB/s\u001b[0m eta \u001b[36m0:00:00\u001b[0m\n",
      "\u001b[?25hRequirement already satisfied: numpy>=1.19.5 in /environment/miniconda3/lib/python3.11/site-packages (from scikit-surprise->surprise) (1.26.4)\n",
      "Collecting scipy>=1.6.0 (from scikit-surprise->surprise)\n",
      "  Downloading https://pypi.tuna.tsinghua.edu.cn/packages/bd/37/89f19c8c05505d0601ed5650156e50eb881ae3918786c8fd7262b4ee66d3/scipy-1.15.3-cp311-cp311-manylinux_2_17_x86_64.manylinux2014_x86_64.whl (37.7 MB)\n",
      "\u001b[2K     \u001b[90m━━━━━━━━━━━━━━━━━━━━━━━━━━━━━━━━━━━━━━━━\u001b[0m \u001b[32m37.7/37.7 MB\u001b[0m \u001b[31m67.7 MB/s\u001b[0m eta \u001b[36m0:00:00\u001b[0m00:01\u001b[0m00:01\u001b[0m\n",
      "\u001b[?25hBuilding wheels for collected packages: scikit-surprise\n",
      "  Building wheel for scikit-surprise (pyproject.toml) ... \u001b[?25ldone\n",
      "\u001b[?25h  Created wheel for scikit-surprise: filename=scikit_surprise-1.1.4-cp311-cp311-linux_x86_64.whl size=559520 sha256=18f60183011ec9b5a38c89e2c5b336d5fb3714520cab3d76a41ef455068c4f3f\n",
      "  Stored in directory: /home/featurize/.cache/pip/wheels/2b/d6/0c/02635ae8588d009ecdba100ed4129b6e334c0f220ee871f5d3\n",
      "Successfully built scikit-surprise\n",
      "Installing collected packages: scipy, joblib, scikit-surprise, surprise\n",
      "Successfully installed joblib-1.5.1 scikit-surprise-1.1.4 scipy-1.15.3 surprise-0.1\n",
      "Note: you may need to restart the kernel to use updated packages.\n"
     ]
    }
   ],
   "source": [
    "pip install surprise"
   ]
  },
  {
   "cell_type": "code",
   "execution_count": 1,
   "id": "8ce8acbd-3024-4cd9-bd30-40475b157488",
   "metadata": {},
   "outputs": [],
   "source": [
    "from surprise import Reader, Dataset, SVD\n",
    "from surprise.model_selection import train_test_split\n",
    "import pandas as pd"
   ]
  },
  {
   "cell_type": "code",
   "execution_count": 3,
   "id": "d51f594a-80cd-49df-a13d-deeb89e10106",
   "metadata": {},
   "outputs": [
    {
     "name": "stdout",
     "output_type": "stream",
     "text": [
      "Looking in indexes: https://pypi.tuna.tsinghua.edu.cn/simple\n",
      "Collecting scikit-learn\n",
      "  Downloading https://pypi.tuna.tsinghua.edu.cn/packages/c6/38/48b75c3d8d268a3f19837cb8a89155ead6e97c6892bb64837183ea41db2b/scikit_learn-1.7.0-cp311-cp311-manylinux_2_17_x86_64.manylinux2014_x86_64.whl (12.9 MB)\n",
      "\u001b[2K     \u001b[90m━━━━━━━━━━━━━━━━━━━━━━━━━━━━━━━━━━━━━━━\u001b[0m \u001b[32m12.9/12.9 MB\u001b[0m \u001b[31m117.2 MB/s\u001b[0m eta \u001b[36m0:00:00\u001b[0m00:01\u001b[0m00:01\u001b[0m\n",
      "\u001b[?25hRequirement already satisfied: numpy>=1.22.0 in /environment/miniconda3/lib/python3.11/site-packages (from scikit-learn) (1.26.4)\n",
      "Requirement already satisfied: scipy>=1.8.0 in /environment/miniconda3/lib/python3.11/site-packages (from scikit-learn) (1.15.3)\n",
      "Requirement already satisfied: joblib>=1.2.0 in /environment/miniconda3/lib/python3.11/site-packages (from scikit-learn) (1.5.1)\n",
      "Collecting threadpoolctl>=3.1.0 (from scikit-learn)\n",
      "  Downloading https://pypi.tuna.tsinghua.edu.cn/packages/32/d5/f9a850d79b0851d1d4ef6456097579a9005b31fea68726a4ae5f2d82ddd9/threadpoolctl-3.6.0-py3-none-any.whl (18 kB)\n",
      "Installing collected packages: threadpoolctl, scikit-learn\n",
      "Successfully installed scikit-learn-1.7.0 threadpoolctl-3.6.0\n",
      "Note: you may need to restart the kernel to use updated packages.\n"
     ]
    }
   ],
   "source": [
    "pip install scikit-learn"
   ]
  },
  {
   "cell_type": "code",
   "execution_count": 1,
   "id": "ef35cf73-2302-409b-9657-e45798c1e31f",
   "metadata": {},
   "outputs": [],
   "source": [
    "# 在现有TF-IDF代码前添加\n",
    "import jieba\n",
    "from sklearn.feature_extraction.text import TfidfVectorizer\n",
    "\n",
    "# 自定义分词器\n",
    "def chinese_tokenizer(text):\n",
    "    return jieba.lcut(text)\n",
    "\n",
    "# 修改TF-IDF配置\n",
    "vectorizer = TfidfVectorizer(\n",
    "    tokenizer=chinese_tokenizer,\n",
    "    stop_words=['的', '了', '和', '是', '在'],  # 基础停用词\n",
    "    ngram_range=(1, 2),  # 包含1-2元词组\n",
    "    max_features=5000    # 限制特征维度\n",
    ")"
   ]
  },
  {
   "cell_type": "code",
   "execution_count": 2,
   "id": "9712a204-fd3b-47bf-956b-7a8b45c74b9f",
   "metadata": {},
   "outputs": [
    {
     "name": "stderr",
     "output_type": "stream",
     "text": [
      "Building prefix dict from the default dictionary ...\n",
      "Loading model from cache /tmp/jieba.cache\n",
      "Loading model cost 0.605 seconds.\n",
      "Prefix dict has been built successfully.\n"
     ]
    }
   ],
   "source": [
    "import pandas as pd\n",
    "import jieba\n",
    "from snownlp import SnowNLP\n",
    "\n",
    "# 读取文件\n",
    "df = pd.read_excel('景区与评论数据集.xlsx')\n",
    "\n",
    "# 定义函数提取关键词\n",
    "def extract_keywords(text):\n",
    "    if isinstance(text, float) and pd.isna(text):\n",
    "        return []\n",
    "    # 使用精确模式分词\n",
    "    words = jieba.lcut(text)\n",
    "    return words\n",
    "\n",
    "# 定义函数获取情感得分\n",
    "def get_sentiment_score(text):\n",
    "    if isinstance(text, float) and pd.isna(text):\n",
    "        return None\n",
    "    s = SnowNLP(text)\n",
    "    return s.sentiments\n",
    "\n",
    "# 提取评论内容列的关键词\n",
    "df['关键词'] = df['评论内容'].apply(extract_keywords)\n",
    "\n",
    "# 获取评论内容列的情感得分\n",
    "df['情感得分'] = df['评论内容'].apply(get_sentiment_score)\n",
    "\n",
    "# 将结果保存为 Excel 文件\n",
    "df.to_excel('景区与评论数据集.xlsx_关键词与情感得分.xlsx', index=False)"
   ]
  },
  {
   "cell_type": "code",
   "execution_count": 72,
   "id": "46311b84-d849-4fa4-a01c-037d35d418e5",
   "metadata": {},
   "outputs": [
    {
     "name": "stdout",
     "output_type": "stream",
     "text": [
      "Looking in indexes: https://pypi.tuna.tsinghua.edu.cn/simple\n",
      "Requirement already satisfied: scikit-surprise in /environment/miniconda3/lib/python3.11/site-packages (1.1.4)\n",
      "Requirement already satisfied: joblib>=1.2.0 in /environment/miniconda3/lib/python3.11/site-packages (from scikit-surprise) (1.5.1)\n",
      "Requirement already satisfied: numpy>=1.19.5 in /environment/miniconda3/lib/python3.11/site-packages (from scikit-surprise) (1.26.4)\n",
      "Requirement already satisfied: scipy>=1.6.0 in /environment/miniconda3/lib/python3.11/site-packages (from scikit-surprise) (1.15.3)\n"
     ]
    }
   ],
   "source": [
    "!pip install scikit-surprise"
   ]
  },
  {
   "cell_type": "code",
   "execution_count": 3,
   "id": "0ac1d518-5c40-42a4-8416-766b07ae45bf",
   "metadata": {},
   "outputs": [
    {
     "name": "stdout",
     "output_type": "stream",
     "text": [
      "Reader对象已创建，评分范围设置为: (0, 1)\n"
     ]
    }
   ],
   "source": [
    "from surprise import Reader\n",
    "\n",
    "reader = Reader(rating_scale=(0, 1))\n",
    "\n",
    "# reader = Reader(rating_scale=(1, 5))\n",
    "\n",
    "print(\"Reader对象已创建，评分范围设置为:\", reader.rating_scale)"
   ]
  },
  {
   "cell_type": "code",
   "execution_count": 4,
   "id": "582518bb-a014-4454-aaff-9a03b27eb10f",
   "metadata": {},
   "outputs": [
    {
     "name": "stdout",
     "output_type": "stream",
     "text": [
      "数据已加载，可用于训练推荐模型\n"
     ]
    }
   ],
   "source": [
    "from surprise import Dataset, Reader\n",
    "import pandas as pd\n",
    "\n",
    "# 假设df是你的DataFrame，包含'用户ID'、'景区名称'和'情感得分'列\n",
    "\n",
    "# 创建Reader对象，指定评分范围\n",
    "reader = Reader(rating_scale=(df['情感得分'].min(), df['情感得分'].max()))\n",
    "\n",
    "# 从DataFrame加载数据\n",
    "data = Dataset.load_from_df(\n",
    "    df[['用户ID', '景区名称', '情感得分']],  # 列顺序必须是：用户ID、物品ID、评分\n",
    "    reader\n",
    ")\n",
    "\n",
    "print(\"数据已加载，可用于训练推荐模型\")"
   ]
  },
  {
   "cell_type": "code",
   "execution_count": 5,
   "id": "975eaa52-56db-4f27-ac9e-645a7c82fe01",
   "metadata": {},
   "outputs": [],
   "source": [
    "df['映射评分'] = df['情感得分'] * 4 + 1 \n",
    "data = Dataset.load_from_df(df[['用户ID', '景区名称', '映射评分']], reader)"
   ]
  },
  {
   "cell_type": "code",
   "execution_count": 6,
   "id": "29f1bd3a-f5dc-4749-b49b-7449d0695096",
   "metadata": {},
   "outputs": [
    {
     "name": "stdout",
     "output_type": "stream",
     "text": [
      "成功将DataFrame转换为Dataset对象，包含1444条评分记录\n"
     ]
    }
   ],
   "source": [
    "data_df = df.rename(columns={\n",
    "    '用户ID': 'userID',\n",
    "    '景区名称': 'itemID',\n",
    "    '情感得分': 'rating'\n",
    "})\n",
    "\n",
    "dataset = Dataset.load_from_df(data_df[['userID', 'itemID', 'rating']], reader)\n",
    "\n",
    "print(f\"成功将DataFrame转换为Dataset对象，包含{len(data_df)}条评分记录\")"
   ]
  },
  {
   "cell_type": "code",
   "execution_count": 7,
   "id": "51fd5189-3424-4988-b964-eb94877dd189",
   "metadata": {},
   "outputs": [
    {
     "name": "stdout",
     "output_type": "stream",
     "text": [
      "训练集大小: 1155 条评分\n",
      "测试集大小: 289 条评分\n"
     ]
    }
   ],
   "source": [
    "from surprise.model_selection import train_test_split\n",
    "\n",
    "trainset, testset = train_test_split(dataset, test_size=0.2, random_state=42)\n",
    "\n",
    "train_ratings_count = sum(1 for _ in trainset.all_ratings())\n",
    "\n",
    "print(f\"训练集大小: {train_ratings_count} 条评分\")\n",
    "print(f\"测试集大小: {len(testset)} 条评分\")"
   ]
  },
  {
   "cell_type": "code",
   "execution_count": 9,
   "id": "44edabfc-34ea-4d8f-b728-14983c4825e8",
   "metadata": {},
   "outputs": [
    {
     "name": "stdout",
     "output_type": "stream",
     "text": [
      "SVD算法已初始化，可用于训练\n"
     ]
    }
   ],
   "source": [
    "from surprise import SVD  # 导入SVD算法\n",
    "\n",
    "# 创建SVD算法实例\n",
    "algo = SVD(\n",
    "    n_factors=50,      # 潜在因子数量，推荐50-100\n",
    "    n_epochs=20,       # 训练轮数\n",
    "    lr_all=0.005,      # 学习率\n",
    "    reg_all=0.02,      # 正则化参数\n",
    "    random_state=42    # 随机种子\n",
    ")\n",
    "\n",
    "print(\"SVD算法已初始化，可用于训练\")"
   ]
  },
  {
   "cell_type": "code",
   "execution_count": 10,
   "id": "81f01514-47f4-460f-975b-67080377c45c",
   "metadata": {},
   "outputs": [
    {
     "name": "stdout",
     "output_type": "stream",
     "text": [
      "开始训练模型...\n",
      "训练完成！耗时: 0.02秒\n"
     ]
    }
   ],
   "source": [
    "import time\n",
    "# 记录训练开始时间\n",
    "start_time = time.time()\n",
    "\n",
    "# 训练模型\n",
    "print(\"开始训练模型...\")\n",
    "algo.fit(trainset)\n",
    "\n",
    "# 计算训练耗时\n",
    "training_time = time.time() - start_time\n",
    "print(f\"训练完成！耗时: {training_time:.2f}秒\")"
   ]
  },
  {
   "cell_type": "code",
   "execution_count": 11,
   "id": "b682bf14-56ae-4292-9ed5-728bbd647620",
   "metadata": {},
   "outputs": [
    {
     "name": "stdout",
     "output_type": "stream",
     "text": [
      "Looking in indexes: https://pypi.tuna.tsinghua.edu.cn/simple\n",
      "Requirement already satisfied: scikit-learn in /environment/miniconda3/lib/python3.11/site-packages (1.7.0)\n",
      "Requirement already satisfied: numpy>=1.22.0 in /environment/miniconda3/lib/python3.11/site-packages (from scikit-learn) (1.26.4)\n",
      "Requirement already satisfied: scipy>=1.8.0 in /environment/miniconda3/lib/python3.11/site-packages (from scikit-learn) (1.15.3)\n",
      "Requirement already satisfied: joblib>=1.2.0 in /environment/miniconda3/lib/python3.11/site-packages (from scikit-learn) (1.5.1)\n",
      "Requirement already satisfied: threadpoolctl>=3.1.0 in /environment/miniconda3/lib/python3.11/site-packages (from scikit-learn) (3.6.0)\n"
     ]
    }
   ],
   "source": [
    "!pip install scikit-learn"
   ]
  },
  {
   "cell_type": "code",
   "execution_count": 12,
   "id": "dd4dc373-0777-4af7-b14c-5db6a2e213a4",
   "metadata": {},
   "outputs": [
    {
     "name": "stdout",
     "output_type": "stream",
     "text": [
      "为'颐和园'推荐的相似景区：\n",
      "          景区名称    相似度得分\n",
      "0    山东省沂蒙山旅游区  0.11237\n",
      "1     拉萨布达拉宫景区  0.11237\n",
      "2  湖南省湘潭市韶山旅游区  0.11237\n"
     ]
    }
   ],
   "source": [
    "import pandas as pd\n",
    "import numpy as np\n",
    "from sklearn.feature_extraction.text import TfidfVectorizer\n",
    "from sklearn.metrics.pairwise import cosine_similarity\n",
    "\n",
    "scenic_reviews = df.groupby('景区名称')['评论内容'].agg(lambda x: ' '.join(x)).reset_index()\n",
    "\n",
    "# 使用TF-IDF提取文本特征\n",
    "vectorizer = TfidfVectorizer(stop_words=None)  # 可添加中文停用词\n",
    "tfidf_matrix = vectorizer.fit_transform(scenic_reviews['评论内容'])\n",
    "\n",
    "# 计算景区之间的余弦相似度矩阵\n",
    "similarity_matrix = cosine_similarity(tfidf_matrix, tfidf_matrix)\n",
    "\n",
    "# 创建景区名称到索引的映射\n",
    "scenic_index = {name: i for i, name in enumerate(scenic_reviews['景区名称'])}\n",
    "\n",
    "# 推荐函数：根据景区名称返回最相似的top_n个景区\n",
    "def get_similar_scenics(scenic_name, top_n=5):\n",
    "    if scenic_name not in scenic_index:\n",
    "        return f\"抱歉，景区 '{scenic_name}' 不在数据集中。\"\n",
    "    \n",
    "    # 获取该景区的索引\n",
    "    idx = scenic_index[scenic_name]\n",
    "    \n",
    "    # 获取该景区与其他所有景区的相似度得分\n",
    "    sim_scores = list(enumerate(similarity_matrix[idx]))\n",
    "    \n",
    "    # 按相似度降序排序\n",
    "    sim_scores = sorted(sim_scores, key=lambda x: x[1], reverse=True)\n",
    "    \n",
    "    # 获取前top_n个相似的景区（排除自身）\n",
    "    top_scenics = sim_scores[1:top_n+1]\n",
    "    \n",
    "    # 返回结果\n",
    "    result = []\n",
    "    for i, score in top_scenics:\n",
    "        result.append({\n",
    "            '景区名称': scenic_reviews.iloc[i]['景区名称'],\n",
    "            '相似度得分': score\n",
    "        })\n",
    "    \n",
    "    return pd.DataFrame(result)\n",
    "\n",
    "# 示例：为\"故宫\"推荐相似的景区\n",
    "example_recommendations = get_similar_scenics(\"颐和园\", top_n=3)\n",
    "print(f\"为'颐和园'推荐的相似景区：\\n{example_recommendations}\")"
   ]
  },
  {
   "cell_type": "code",
   "execution_count": 13,
   "id": "48b46beb-7e2a-4a88-ad4d-301c4f4f738a",
   "metadata": {},
   "outputs": [],
   "source": [
    "\n",
    "def hybrid_recommend(user_id, scenic_name, top_n=5, content_weight=0.7, collab_weight=0.3):\n",
    "    # 获取内容推荐结果\n",
    "    content_rec = get_similar_scenics(scenic_name, top_n*2)\n",
    "    \n",
    "    # 获取协同过滤推荐结果 (需事先训练好collab_model)\n",
    "    collab_rec = collab_model.recommend(user_id, top_n*2)\n",
    "    \n",
    "    # 混合两种推荐结果\n",
    "    merged_rec = pd.merge(content_rec, collab_rec, on='景区名称', how='outer')\n",
    "    merged_rec['综合得分'] = content_weight*merged_rec['相似度得分'] + collab_weight*merged_rec['预测评分']\n",
    "    \n",
    "    return merged_rec.sort_values('综合得分', ascending=False).head(top_n)"
   ]
  },
  {
   "cell_type": "code",
   "execution_count": 14,
   "id": "45633e6e-d5b1-4535-b982-1192cf93f338",
   "metadata": {},
   "outputs": [
    {
     "name": "stdout",
     "output_type": "stream",
     "text": [
      "混合推荐结果(用户11111可能喜欢的类似'颐和园'的景区):\n",
      "  景区名称   综合得分\n",
      "1  圆明园  0.255\n",
      "2   天坛  0.246\n",
      "8   长城  0.234\n"
     ]
    }
   ],
   "source": [
    "\n",
    "# 添加混合推荐方法\n",
    "def hybrid_recommend(user_id, scenic_name, top_n=5, content_weight=0.7, collab_weight=0.3):\n",
    "    # 获取内容推荐结果\n",
    "    content_rec = get_similar_scenics(scenic_name, top_n*2)\n",
    "    \n",
    "    # 假设collab_model是已训练好的协同过滤模型\n",
    "    # 这里模拟一个协同过滤推荐结果 (实际使用时需替换为真实模型)\n",
    "    collab_rec = pd.DataFrame({\n",
    "        '景区名称': ['圆明园', '天坛', '长城', '北海公园', '香山公园'],\n",
    "        '预测评分': [0.85, 0.82, 0.78, 0.75, 0.72]\n",
    "    })\n",
    "    \n",
    "    # 混合两种推荐结果\n",
    "    merged_rec = pd.merge(content_rec, collab_rec, on='景区名称', how='outer')\n",
    "    merged_rec['综合得分'] = (content_weight * merged_rec['相似度得分'].fillna(0) + \n",
    "                            collab_weight * merged_rec['预测评分'].fillna(0))\n",
    "    \n",
    "    return merged_rec.sort_values('综合得分', ascending=False).head(top_n)\n",
    "\n",
    "# 示例输出\n",
    "user_id = 11111 # 示例用户ID\n",
    "scenic_name = \"颐和园\"\n",
    "hybrid_results = hybrid_recommend(user_id, scenic_name, top_n=3)\n",
    "print(f\"混合推荐结果(用户{user_id}可能喜欢的类似'{scenic_name}'的景区):\")\n",
    "print(hybrid_results[['景区名称', '综合得分']])"
   ]
  },
  {
   "cell_type": "code",
   "execution_count": 24,
   "id": "dc908a7e-f079-4dc2-811d-4a46847ee8f9",
   "metadata": {},
   "outputs": [
    {
     "name": "stdout",
     "output_type": "stream",
     "text": [
      "Looking in indexes: https://pypi.tuna.tsinghua.edu.cn/simple\n",
      "Collecting opencv-python\n",
      "  Downloading https://pypi.tuna.tsinghua.edu.cn/packages/2c/8b/90eb44a40476fa0e71e05a0283947cfd74a5d36121a11d926ad6f3193cc4/opencv_python-4.11.0.86-cp37-abi3-manylinux_2_17_x86_64.manylinux2014_x86_64.whl (63.0 MB)\n",
      "\u001b[2K     \u001b[90m━━━━━━━━━━━━━━━━━━━━━━━━━━━━━━━━━━━━━━━━\u001b[0m \u001b[32m63.0/63.0 MB\u001b[0m \u001b[31m42.7 MB/s\u001b[0m eta \u001b[36m0:00:00\u001b[0m00:01\u001b[0m00:01\u001b[0m\n",
      "\u001b[?25hRequirement already satisfied: numpy>=1.21.2 in /environment/miniconda3/lib/python3.11/site-packages (from opencv-python) (1.26.4)\n",
      "Installing collected packages: opencv-python\n",
      "Successfully installed opencv-python-4.11.0.86\n",
      "Note: you may need to restart the kernel to use updated packages.\n"
     ]
    }
   ],
   "source": [
    "pip install opencv-python"
   ]
  },
  {
   "cell_type": "code",
   "execution_count": 1,
   "id": "3042617e-4dba-4a94-b589-7c737c51af5b",
   "metadata": {},
   "outputs": [
    {
     "ename": "NameError",
     "evalue": "name '北京初冬的天坛' is not defined",
     "output_type": "error",
     "traceback": [
      "\u001b[0;31m---------------------------------------------------------------------------\u001b[0m",
      "\u001b[0;31mNameError\u001b[0m                                 Traceback (most recent call last)",
      "Cell \u001b[0;32mIn[1], line 25\u001b[0m\n\u001b[1;32m     23\u001b[0m \u001b[38;5;66;03m# 使用示例\u001b[39;00m\n\u001b[1;32m     24\u001b[0m video_path \u001b[38;5;241m=\u001b[39m \u001b[38;5;124m\"\u001b[39m\u001b[38;5;124mexample.mp4\u001b[39m\u001b[38;5;124m\"\u001b[39m  \u001b[38;5;66;03m# 替换为您的视频路径\u001b[39;00m\n\u001b[0;32m---> 25\u001b[0m video_capture, frame_count, fps, width, height \u001b[38;5;241m=\u001b[39m import_video(\u001b[43m北京初冬的天坛\u001b[49m)\n\u001b[1;32m     27\u001b[0m \u001b[38;5;28mprint\u001b[39m(\u001b[38;5;124mf\u001b[39m\u001b[38;5;124m\"\u001b[39m\u001b[38;5;124m视频信息: \u001b[39m\u001b[38;5;132;01m{\u001b[39;00mframe_count\u001b[38;5;132;01m}\u001b[39;00m\u001b[38;5;124m帧, \u001b[39m\u001b[38;5;132;01m{\u001b[39;00mfps\u001b[38;5;132;01m}\u001b[39;00m\u001b[38;5;124mFPS, 分辨率: \u001b[39m\u001b[38;5;132;01m{\u001b[39;00mwidth\u001b[38;5;132;01m}\u001b[39;00m\u001b[38;5;124mx\u001b[39m\u001b[38;5;132;01m{\u001b[39;00mheight\u001b[38;5;132;01m}\u001b[39;00m\u001b[38;5;124m\"\u001b[39m)\n\u001b[1;32m     29\u001b[0m \u001b[38;5;66;03m# 读取第一帧\u001b[39;00m\n",
      "\u001b[0;31mNameError\u001b[0m: name '北京初冬的天坛' is not defined"
     ]
    }
   ],
   "source": [
    "import cv2\n",
    "\n",
    "def import_video(北京初冬的天坛):\n",
    "    \"\"\"\n",
    "    导入视频文件并返回视频对象和基本信息\n",
    "    :param video_path: 视频文件路径\n",
    "    :return: (video_capture, frame_count, fps, width, height)\n",
    "    \"\"\"\n",
    "    # 创建视频捕获对象\n",
    "    video_capture = cv2.VideoCapture(北京初冬的天坛)\n",
    "    \n",
    "    if not video_capture.isOpened():\n",
    "        raise ValueError(f\"无法打开视频文件: {北京初冬的天坛}\")\n",
    "    \n",
    "    # 获取视频基本信息\n",
    "    frame_count = int(video_capture.get(cv2.CAP_PROP_FRAME_COUNT))\n",
    "    fps = video_capture.get(cv2.CAP_PROP_FPS)\n",
    "    width = int(video_capture.get(cv2.CAP_PROP_FRAME_WIDTH))\n",
    "    height = int(video_capture.get(cv2.CAP_PROP_FRAME_HEIGHT))\n",
    "    \n",
    "    return video_capture, frame_count, fps, width, height\n",
    "\n",
    "# 使用示例\n",
    "video_path = \".mp4\"  # 替换为您的视频路径\n",
    "video_capture, frame_count, fps, width, height = import_video(北京初冬的天坛)\n",
    "\n",
    "print(f\"视频信息: {frame_count}帧, {fps}FPS, 分辨率: {width}x{height}\")\n",
    "\n",
    "# 读取第一帧\n",
    "ret, frame = video_capture.read()\n",
    "if ret:\n",
    "    # 将BGR转换为RGB\n",
    "    frame_rgb = cv2.cvtColor(frame, cv2.COLOR_BGR2RGB)\n",
    "    # 可以在这里添加帧处理代码\n",
    "    \n",
    "# 使用完毕后释放视频对象\n",
    "video_capture.release()"
   ]
  },
  {
   "cell_type": "code",
   "execution_count": null,
   "id": "a8290290-3533-427d-bc8e-0593eeb5e584",
   "metadata": {},
   "outputs": [],
   "source": []
  }
 ],
 "metadata": {
  "kernelspec": {
   "display_name": "Python 3 (ipykernel)",
   "language": "python",
   "name": "python3"
  },
  "language_info": {
   "codemirror_mode": {
    "name": "ipython",
    "version": 3
   },
   "file_extension": ".py",
   "mimetype": "text/x-python",
   "name": "python",
   "nbconvert_exporter": "python",
   "pygments_lexer": "ipython3",
   "version": "3.11.8"
  }
 },
 "nbformat": 4,
 "nbformat_minor": 5
}
